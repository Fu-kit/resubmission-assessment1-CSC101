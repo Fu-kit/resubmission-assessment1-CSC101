{
  "nbformat": 4,
  "nbformat_minor": 0,
  "metadata": {
    "colab": {
      "provenance": [],
      "authorship_tag": "ABX9TyOor404e7C+dA3eAimte/wb",
      "include_colab_link": true
    },
    "kernelspec": {
      "name": "python3",
      "display_name": "Python 3"
    },
    "language_info": {
      "name": "python"
    }
  },
  "cells": [
    {
      "cell_type": "markdown",
      "metadata": {
        "id": "view-in-github",
        "colab_type": "text"
      },
      "source": [
        "<a href=\"https://colab.research.google.com/github/Fu-kit/resubmission-assessment1-CSC101/blob/main/resubmission_assessment1_csc101.ipynb\" target=\"_parent\"><img src=\"https://colab.research.google.com/assets/colab-badge.svg\" alt=\"Open In Colab\"/></a>"
      ]
    },
    {
      "cell_type": "code",
      "execution_count": 12,
      "metadata": {
        "colab": {
          "base_uri": "https://localhost:8080/",
          "height": 713
        },
        "id": "aW_9_tMSj7xE",
        "outputId": "6d496b7e-d97a-484d-9433-0fb556052444"
      },
      "outputs": [
        {
          "output_type": "stream",
          "name": "stdout",
          "text": [
            "Please paste your text:\n",
            "I can't believe it.\n",
            "\n",
            "--- Results ---\n",
            "Total words: 4\n",
            "Average word length: 3.75\n",
            "\n",
            "Top 10 words:\n",
            "   word  count\n",
            "      i      1\n",
            "  can't      1\n",
            "believe      1\n",
            "     it      1\n"
          ]
        },
        {
          "output_type": "display_data",
          "data": {
            "text/plain": [
              "<Figure size 640x480 with 1 Axes>"
            ],
            "image/png": "[encoded data removed]"
          },
          "metadata": {}
        }
      ],
      "source": [
        "!pip install -q pyinputplus pandas matplotlib\n",
        "\n",
        "# =========================================\n",
        "# Text Analysis Tool — One-shot (no menu)\n",
        "# - User pastes text once\n",
        "# - Tokenize -> analyze -> print stats -> show bar chart (non-saving)\n",
        "# - Uses pyinputplus, pandas, matplotlib\n",
        "# - Pythonic tokenizer keeps apostrophes (\"can't\", \"it’s\")\n",
        "# =========================================\n",
        "\n",
        "import pyinputplus as pyip\n",
        "import pandas as pd\n",
        "import matplotlib.pyplot as plt\n",
        "\n",
        "# ---------- Step 1: Input ----------\n",
        "def get_user_text():\n",
        "    \"\"\"Prompt user for text (pyinputplus).\"\"\"\n",
        "    return pyip.inputStr(\"Please paste your text:\\n\")\n",
        "\n",
        "# ---------- Step 2: Tokenize (Pythonic, keeps ' and ’) ----------\n",
        "def tokenize_text(text):\n",
        "    \"\"\"\n",
        "    Lowercase; keep letters/digits/spaces/apostrophes; replace others with spaces; split to words.\n",
        "    Preserves both straight (') and curly (’).\n",
        "    \"\"\"\n",
        "    text = text.lower()\n",
        "    keep_apostrophes = {\"'\", \"’\"}\n",
        "    allowed = lambda ch: ch.isalnum() or ch.isspace() or ch in keep_apostrophes\n",
        "    cleaned_text = \"\".join(ch if allowed(ch) else \" \" for ch in text)\n",
        "    return cleaned_text.split()\n",
        "\n",
        "# ---------- Step 3: Analysis (pandas) ----------\n",
        "def analyze(words):\n",
        "    \"\"\"Return total_words (int), avg_word_len (float), and a Series of counts (desc).\"\"\"\n",
        "    total_words = len(words)\n",
        "    avg_word_len = (sum(len(w) for w in words) / total_words) if total_words else 0.0\n",
        "    counts = pd.Series(words, dtype=\"string\").value_counts() if words else pd.Series(dtype=int)\n",
        "    return total_words, avg_word_len, counts\n",
        "\n",
        "def make_top_table(counts, n=10):\n",
        "    \"\"\"Neat top-N table as DataFrame with columns: word, count.\"\"\"\n",
        "    if counts is None or counts.empty:\n",
        "        return pd.DataFrame(columns=[\"word\", \"count\"])\n",
        "    return (counts.head(n)\n",
        "            .reset_index()\n",
        "            .rename(columns={\"index\": \"word\", 0: \"count\"}))\n",
        "\n",
        "# ---------- Step 4: Plot (non-saving) ----------\n",
        "def plot_top_words(counts, n=10):\n",
        "    \"\"\"Show a bar chart for top-N words (non-saving).\"\"\"\n",
        "    if counts is None or counts.empty:\n",
        "        print(\"No words to plot.\")\n",
        "        return\n",
        "    data = counts.head(n)\n",
        "    plt.figure()\n",
        "    plt.bar(data.index, data.values)\n",
        "    plt.title(f\"Top {n} Words\")\n",
        "    plt.xlabel(\"Word\")\n",
        "    plt.ylabel(\"Frequency\")\n",
        "    plt.xticks(rotation=45)\n",
        "    plt.tight_layout()\n",
        "    plt.show()\n",
        "\n",
        "# ---------- Main: one-shot pipeline ----------\n",
        "def main():\n",
        "    text = get_user_text()\n",
        "    words = tokenize_text(text)\n",
        "\n",
        "    total, avg_len, counts = analyze(words)\n",
        "    top10 = make_top_table(counts, n=10)\n",
        "\n",
        "    print(\"\\n--- Results ---\")\n",
        "    print(f\"Total words: {total}\")\n",
        "    print(f\"Average word length: {avg_len:.2f}\")\n",
        "\n",
        "    print(\"\\nTop 10 words:\")\n",
        "    if top10.empty:\n",
        "        print(\"(no words)\")\n",
        "    else:\n",
        "        print(top10.to_string(index=False))\n",
        "\n",
        "    # Show non-saving chart\n",
        "    plot_top_words(counts, n=10)\n",
        "\n",
        "if __name__ == \"__main__\":\n",
        "    main()\n"
      ]
    },
    {
      "cell_type": "code",
      "source": [],
      "metadata": {
        "id": "A1QpRwD7JnzW"
      },
      "execution_count": null,
      "outputs": []
    }
  ]
}